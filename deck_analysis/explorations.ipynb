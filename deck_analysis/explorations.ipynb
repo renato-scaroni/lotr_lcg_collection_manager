{
 "cells": [
  {
   "cell_type": "code",
   "execution_count": 59,
   "metadata": {},
   "outputs": [],
   "source": [
    "import base64\n",
    "from IPython.display import Image, display\n",
    "import matplotlib.pyplot as plt\n",
    "\n",
    "def mm(graph):\n",
    "  graphbytes = graph.encode(\"ascii\")\n",
    "  base64_bytes = base64.b64encode(graphbytes)\n",
    "  base64_string = base64_bytes.decode(\"ascii\")\n",
    "  url=\"https://mermaid.ink/img/\" + base64_string\n",
    "  display(Image(url=url))"
   ]
  },
  {
   "cell_type": "code",
   "execution_count": 8,
   "metadata": {},
   "outputs": [
    {
     "data": {
      "text/plain": [
       "array(['Anões', 'Rohan', 'Aragorn e seus crushs',\n",
       "       'Arwen Is The Steward Now  (#RCO)', 'Dale (e rohan)',\n",
       "       'The white counsel', 'Dúnedain e patrulheiros da TM', 'Silvan',\n",
       "       'Starter for Dale (Single Core + Wilds of Rhovanion)', 'Hobbitses'],\n",
       "      dtype=object)"
      ]
     },
     "execution_count": 8,
     "metadata": {},
     "output_type": "execute_result"
    }
   ],
   "source": [
    "import decks_utils as du\n",
    "import pandas as pd\n",
    "import numpy as np\n",
    "from itertools import combinations\n",
    "import os\n",
    "from zipfile import ZipFile\n",
    "from datetime import datetime\n",
    "import decks_utils as du\n",
    "import sys\n",
    "\n",
    "def extract_file(file_name):\n",
    "    os.makedirs(f'tmp/{file_name}', exist_ok=True)\n",
    "    with ZipFile(f'tmp/{file_name}.zip', 'r') as zipObj:\n",
    "        zipObj.extractall(f'tmp/{file_name}')\n",
    "\n",
    "    return f'tmp/{file_name}'\n",
    "\n",
    "folder = extract_file(\"ringsdb\")\n",
    "decks = du.load_decks(folder)\n",
    "\n",
    "decklist_df = du.cards_in_decks(du.count_cards_in_deck, decks)\n",
    "columns = ['name', 'sphere', 'type', 'pack', 'quantity']\n",
    "packs_in_collection = pd.read_csv(\"../data/packs.csv\").head(33)\n",
    "all_cards_rings_db = pd.read_csv(\"../data/cards_rings_db_info.csv\")\n",
    "cards_in_collection = packs_in_collection.merge(all_cards_rings_db, on='pack_name', how='left')\n",
    "rename_dict = { \n",
    "    'sphere_name': 'sphere', \n",
    "    'type_name': 'type',\n",
    "    'pack_name': 'pack'\n",
    "}\n",
    "cards_in_collection.rename(columns=rename_dict, inplace=True)\n",
    "cards_in_collection = cards_in_collection[columns]\n",
    "#adding Revised core set cards\n",
    "revised_core_set = cards_in_collection[cards_in_collection.pack == 'Core Set'].copy()\n",
    "revised_core_set['quantity'] = revised_core_set.apply(lambda x: 3 if x['type'] != 'Hero' else 1, axis=1)\n",
    "revised_core_set['pack'] = 'Revised Core Set'\n",
    "\n",
    "cards_in_collection = pd.concat([cards_in_collection, revised_core_set])\n",
    "\n",
    "shared_cards = du.get_used_cards_in_collection(decklist_df, cards_in_collection)\n",
    "\n",
    "cards_map = pd.pivot_table(\n",
    "    shared_cards, values='quantity', \n",
    "    index=['name', 'sphere', 'type'],\n",
    "    columns=['deck_name'], aggfunc=np.sum)\\\n",
    ".fillna(0)\n",
    "cards_map.reset_index(inplace=True)\n",
    "cards_in_collection = cards_in_collection.groupby(['name', 'sphere', 'type']).sum().reset_index().drop(columns=['pack'])\n",
    "cards_in_collection.rename(columns={'quantity': 'in_collection'}, inplace=True)\n",
    "cards_map = cards_map.merge(cards_in_collection, on=['name', 'sphere', 'type'], how='left')\n",
    "cards_map.set_index(['name', 'sphere', 'type'], inplace=True)\n",
    "\n",
    "def get_most_simultanious_deck(cards_map, i=None):\n",
    "    deck_names = cards_map.drop(columns=['in_collection']).columns\n",
    "    if i is None:\n",
    "        i = len(deck_names)\n",
    "    combs = list(combinations(deck_names, i))\n",
    "    filtered_combs = list(filter(lambda x: (cards_map['in_collection'] >= cards_map[list(x)].sum(axis=1)).all(), combs))\n",
    "    if len(filtered_combs):\n",
    "        import math\n",
    "        total_decks = len(deck_names)\n",
    "        print(\"total decks\", total_decks, \"simultanious decks\", i)\n",
    "        print(\"max combinations\", math.comb(total_decks, i))\n",
    "        print(\"found combinations\", len(filtered_combs))\n",
    "\n",
    "        return filtered_combs\n",
    "\n",
    "    return get_most_simultanious_deck(cards_map, i-1)\n",
    "\n",
    "# get_most_simultanious_deck(cards_map, 5)\n",
    "decklist_df.deck_name.unique()"
   ]
  },
  {
   "cell_type": "code",
   "execution_count": 126,
   "metadata": {},
   "outputs": [
    {
     "name": "stdout",
     "output_type": "stream",
     "text": [
      "9\n"
     ]
    }
   ],
   "source": [
    "def knapSack(W, wt, val, n, things=[]):\n",
    "   # initial conditions\n",
    "   if n == 0 or W.any() < 0 :\n",
    "      return 0, things\n",
    "   # If weight is higher than capacity then it is not included\n",
    "   if (wt[n-1].all() > W.all()):\n",
    "      return knapSack(W, wt, val, n-1, things)\n",
    "   # return either nth item being included or not\n",
    "   else:\n",
    "      a = knapSack(W-wt[n-1], wt, val, n-1, things+[n-1])\n",
    "      b = knapSack(W, wt, val, n-1, things)\n",
    "      if val[n-1] + a[0] > b[0]:\n",
    "         return val[n-1] + a[0], a[1]\n",
    "      else:\n",
    "         return b\n",
    "\n",
    "\n",
    "def knapSack(W, wt, val, n):\n",
    "    # initial conditions\n",
    "   if n == 0 or W.any() < 0 :\n",
    "       return 0\n",
    "   # If weight is higher than capacity then it is not included\n",
    "   if (wt[n-1].any() > W.any()):\n",
    "      return knapSack(W, wt, val, n-1)\n",
    "   # return either nth item being included or not\n",
    "   else:\n",
    "      return max(val[n-1] + knapSack(W-wt[n-1], wt, val, n-1),\n",
    "         knapSack(W, wt, val, n-1))\n",
    "       \n",
    "W = cards_map['in_collection'].to_numpy()\n",
    "wt = cards_map.drop(columns=['in_collection']).to_numpy().T\n",
    "val = len(wt)*[1]\n",
    "n = len(wt)\n",
    "print(knapSack(W, wt, val, len(val)))\n",
    "\n",
    "# val, W, wt"
   ]
  },
  {
   "cell_type": "code",
   "execution_count": 95,
   "metadata": {},
   "outputs": [
    {
     "name": "stdout",
     "output_type": "stream",
     "text": [
      "220\n"
     ]
    }
   ],
   "source": [
    "def knapSack(W, wt, val, n):\n",
    "    K = [[0 for x in range(W + 1)] for x in range(n + 1)]\n",
    "    # Build tаble K[][] in bоttоm uр mаnner\n",
    "    for i in range(n + 1):\n",
    "        for w in range(W + 1):\n",
    "            if i == 0  or  w == 0:\n",
    "                K[i][w] = 0\n",
    "            elif wt[i-1] <= w:\n",
    "                K[i][w] = max(val[i-1]\n",
    "                        + K[i-1][w-wt[i-1]],\n",
    "                            K[i-1][w])\n",
    "            else:\n",
    "                K[i][w] = K[i-1][w]\n",
    "    return K[n][W]\n",
    "\n",
    "# Driver code\n",
    "W = cards_map['in_collection'].to_numpy()\n",
    "wt = cards_map.drop(columns=['in_collection']).to_numpy().T\n",
    "val = len(wt)*[1]\n",
    "n = len(wt)\n"
   ]
  },
  {
   "cell_type": "code",
   "execution_count": 7,
   "metadata": {},
   "outputs": [],
   "source": [
    "import decks_utils as du\n",
    "import pdf_generator as pdf\n",
    "\n",
    "decks = du.load_decks('./decks/')\n",
    "decklist_df = du.cards_in_decks(du.count_cards_in_deck, decks)\n",
    "all_cards = du.load_all_cards_df()\n",
    "shared_cards = du.get_used_cards_in_collection(decklist_df, all_cards)\n",
    "with open('decks/decks_new.tex', 'w') as f:\n",
    "    txt = pdf.generate_latex(shared_cards)\n",
    "    f.write(txt)\n",
    "    f.close()\n",
    "    \n",
    "# from pylatex import Document, Package, Section, NoEscape\n",
    "\n",
    "# txt = generate_latex(used_cards_df.groupby('deck_name'))\n",
    "# geometry_options = {\"tmargin\": \"1cm\", \"lmargin\": \"10cm\"}\n",
    "# doc = Document(geometry_options=geometry_options)\n",
    "# doc.packages.append(Package('booktabs'))\n",
    "# doc.append(txt)\n",
    "\n",
    "# doc.generate_pdf('full', clean_tex=False)"
   ]
  },
  {
   "cell_type": "code",
   "execution_count": 58,
   "metadata": {},
   "outputs": [
    {
     "data": {
      "text/html": [
       "<img src=\"https://mermaid.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\"/>"
      ],
      "text/plain": [
       "<IPython.core.display.Image object>"
      ]
     },
     "metadata": {},
     "output_type": "display_data"
    }
   ],
   "source": [
    "from itertools import combinations\n",
    "import decks_utils as du\n",
    "import pdf_generator as pdf\n",
    "import string\n",
    "\n",
    "\n",
    "def remove_non_ascii(a_str):\n",
    "    ascii_chars = set(string.printable)\n",
    "\n",
    "    return ''.join(\n",
    "        filter(lambda x: x in ascii_chars, a_str)\n",
    "    )\n",
    "    \n",
    "decks = du.load_decks('./decks/')\n",
    "decklist_df = du.cards_in_decks(du.count_cards_in_deck, decks)\n",
    "all_cards = du.load_all_cards_df()\n",
    "shared_cards = du.get_used_cards_in_collection(decklist_df, all_cards)\n",
    "decks = shared_cards.drop_duplicates(subset=['deck_name'])\n",
    "cards = shared_cards.drop_duplicates(subset=['name'])\n",
    "decks = decks.deck_name.tolist()\n",
    "cards = cards.name.tolist()\n",
    "subgraph = 'graph LR;\\n'\n",
    "decks_declaration = {d:chr(65+i) for i, d in enumerate(decks)}\n",
    "cards_declaration = {c:chr(97+i) for i, c in enumerate(cards)}\n",
    "for d, id in cards_declaration.items():\n",
    "    subgraph += f\"\\t{id}[\\\"{d}\\\"];\\n\"\n",
    "for d, id in decks_declaration.items():\n",
    "    subgraph += f\"\\t{id}[\\\"{d}\\\"];\\n\"\n",
    "\n",
    "for card, decks_with_card in shared_cards.groupby('name'):\n",
    "    card_id = cards_declaration[card]\n",
    "    decks_with_card = shared_cards.drop_duplicates(subset=['deck_name'])\n",
    "    decks_with_card = decks_with_card.deck_name.tolist()\n",
    "    # decks = combinations(decks.deck_name.tolist(), 2)\n",
    "    # lines = [f\"\\t{decks_declaration[d1]} --{card}--- {decks_declaration[d2]};\" for d1, d2 in decks]\n",
    "    lines = [f\"\\t{decks_declaration[d]} --- {card_id};\"\\\n",
    "             for d in decks_with_card]\n",
    "    subgraph += '\\n'.join(lines) + '\\n'\n",
    "    # break\n",
    "# print(remove_non_ascii(subgraph))\n",
    "mm(remove_non_ascii(subgraph))"
   ]
  }
 ],
 "metadata": {
  "kernelspec": {
   "display_name": "venv",
   "language": "python",
   "name": "python3"
  },
  "language_info": {
   "codemirror_mode": {
    "name": "ipython",
    "version": 3
   },
   "file_extension": ".py",
   "mimetype": "text/x-python",
   "name": "python",
   "nbconvert_exporter": "python",
   "pygments_lexer": "ipython3",
   "version": "3.11.4"
  },
  "orig_nbformat": 4
 },
 "nbformat": 4,
 "nbformat_minor": 2
}
