{
 "cells": [
  {
   "cell_type": "code",
   "execution_count": 35,
   "metadata": {},
   "outputs": [],
   "source": [
    "import pandas as pd\n",
    "\n",
    "df1 = pd.read_csv('data_ingestion/data/cards.csv')\n",
    "df2 = pd.read_csv('data_ingestion/data/cards_rings_db_info.csv')\n",
    "\n",
    "df2.rename(columns={\n",
    "    'type_name': 'type',\n",
    "    'sphere_name': 'sphere',\n",
    "    'pack_name': 'pack',\n",
    "}, inplace=True)\n",
    "df3 = df2.merge(df1, on=['name', 'type', 'sphere', 'pack'], how='left')\n",
    "\n",
    "df3.rename(columns={\n",
    "    'quantity_x': 'quantity_in_pack',\n",
    "    'quantity_y': 'quantity_in_collection',\n",
    "}, inplace=True)\n"
   ]
  },
  {
   "cell_type": "code",
   "execution_count": 36,
   "metadata": {},
   "outputs": [
    {
     "data": {
      "text/plain": [
       "Index(['pack_code', 'pack', 'type_code', 'type', 'sphere_code', 'sphere',\n",
       "       'position', 'code', 'name', 'traits', 'text', 'flavor', 'is_unique',\n",
       "       'threat', 'willpower', 'attack', 'defense', 'health',\n",
       "       'quantity_in_pack', 'deck_limit', 'illustrator', 'octgnid',\n",
       "       'has_errata', 'url', 'imagesrc', 'cost', 'victory', 'quest',\n",
       "       'quantity_in_collection', 'hallofbeorn_url', 'card_id',\n",
       "       'traits_and_keywords'],\n",
       "      dtype='object')"
      ]
     },
     "execution_count": 36,
     "metadata": {},
     "output_type": "execute_result"
    }
   ],
   "source": [
    "# df3[['name', 'quantity_in_pack', 'quantity_in_collection']]\n",
    "df3.columns"
   ]
  }
 ],
 "metadata": {
  "kernelspec": {
   "display_name": "venv",
   "language": "python",
   "name": "python3"
  },
  "language_info": {
   "codemirror_mode": {
    "name": "ipython",
    "version": 3
   },
   "file_extension": ".py",
   "mimetype": "text/x-python",
   "name": "python",
   "nbconvert_exporter": "python",
   "pygments_lexer": "ipython3",
   "version": "3.11.3"
  },
  "orig_nbformat": 4
 },
 "nbformat": 4,
 "nbformat_minor": 2
}
